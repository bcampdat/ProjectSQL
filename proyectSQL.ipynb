{
 "cells": [
  {
   "cell_type": "markdown",
   "metadata": {},
   "source": [
    "### Descripción del Proyecto\n",
    "\n",
    "Construir una base de datos SQL para una universidad que gestione estudiantes, cursos, profesores y calificaciones.\n",
    "\n",
    "### Requisitos Técnicos del Proyecto\n",
    "\n",
    "El proyecto debe contener las siguientes características técnicas:\n",
    "\n",
    "Construir una base de datos con las siguientes tablas:  \n",
    "+ Estudiantes, \n",
    "+ Cursos, \n",
    "+ Profesores, \n",
    "+ Calificaciones.  \n",
    "\n",
    "Establecer relaciones de clave foránea entre las tablas.\n",
    "\n",
    "Crear un script que llene todas las tablas de la base de datos con datos de muestra.\n",
    "\n"
   ]
  },
  {
   "cell_type": "code",
   "execution_count": null,
   "metadata": {
    "vscode": {
     "languageId": "sql"
    }
   },
   "outputs": [],
   "source": [
    "CREATE TABLE `botegaproject_bea`.`estudiantes` (\n",
    "  `id_estudiantes` INT NOT NULL AUTO_INCREMENT,\n",
    "  `nombre_estudiante` NVARCHAR(45) NOT NULL,\n",
    "  `edad` INT NULL,\n",
    "  `email_estudiante` NVARCHAR(25) NULL,\n",
    "  PRIMARY KEY (`id_estudiantes`),\n",
    "  UNIQUE INDEX `idestudiantes_UNIQUE` (`id_estudiantes` ASC));"
   ]
  },
  {
   "cell_type": "code",
   "execution_count": null,
   "metadata": {
    "vscode": {
     "languageId": "sql"
    }
   },
   "outputs": [],
   "source": [
    "INSERT INTO Estudiantes (nombre_estudiante, edad, email_estudiante) VALUES\n",
    "('Carlos Pérez', 20, 'carlos.perez@example.com'),\n",
    "('Laura Gómez', 22, 'laura.gomez@example.com'),\n",
    "('Pedro Sánchez', 19, 'pedro.sanchez@example.com'),\n",
    "('Ana Ruiz', 21, 'ana.ruiz@example.com'),\n",
    "('Luis Torres', 23, 'luis.torres@example.com'),\n",
    "('Marta Díaz', 20, 'marta.diaz@example.com'),\n",
    "('José Martínez', 22, 'jose.martinez@example.com'),\n",
    "('María Hernández', 21, 'maria.hernandez@example.com'),\n",
    "('Juan González', 24, 'juan.gonzalez@example.com'),\n",
    "('Isabel López', 20, 'isabel.lopez@example.com'),\n",
    "('David Romero', 25, 'david.romero@example.com'),\n",
    "('Elena García', 21, 'elena.garcia@example.com'),\n",
    "('Mario Rodríguez', 23, 'mario.rodriguez@example.com'),\n",
    "('Luisa Herrera', 22, 'luisa.herrera@example.com'),\n",
    "('Miguel Sánchez', 20, 'miguel.sanchez@example.com'),\n",
    "('Patricia Vargas', 19, 'patricia.vargas@example.com'),\n",
    "('Jorge Ruiz', 21, 'jorge.ruiz@example.com'),\n",
    "('Nora Fernández', 22, 'nora.fernandez@example.com'),\n",
    "('Carlos Martínez', 23, 'carlos.martinez@example.com'),\n",
    "('Mónica Díaz', 24, 'monica.diaz@example.com'),\n",
    "('Álvaro Gómez', 20, 'alvaro.gomez@example.com'),\n",
    "('Sofía Jiménez', 21, 'sofia.jimenez@example.com'),\n",
    "('Javier González', 23, 'javier.gonzalez@example.com'),\n",
    "('Laura García', 22, 'laura.garcia@example.com'),\n",
    "('Andrés Pérez', 19, 'andres.perez@example.com'),\n",
    "('Sandra Romero', 20, 'sandra.romero@example.com'),\n",
    "('Luis Hernández', 21, 'luis.hernandez@example.com'),\n",
    "('Verónica Martínez', 22, 'veronica.martinez@example.com'),\n",
    "('Francisco López', 23, 'francisco.lopez@example.com'),\n",
    "('Rebeca Sánchez', 20, 'rebeca.sanchez@example.com'),\n",
    "('Pedro Gómez', 24, 'pedro.gomez@example.com'),\n",
    "('Carmen Díaz', 21, 'carmen.diaz@example.com'),\n",
    "('Ricardo Torres', 20, 'ricardo.torres@example.com'),\n",
    "('Claudia Ruiz', 22, 'claudia.ruiz@example.com'),\n",
    "('Santiago Rodríguez', 23, 'santiago.rodriguez@example.com'),\n",
    "('Isabel Pérez', 25, 'isabel.perez@example.com'),\n",
    "('Antonio González', 19, 'antonio.gonzalez@example.com'),\n",
    "('Inés Hernández', 21, 'ines.hernandez@example.com'),\n",
    "('Óscar Sánchez', 22, 'oscar.sanchez@example.com'),\n",
    "('Elena Rodríguez', 20, 'elena.rodriguez@example.com'),\n",
    "('Javier González', 24, 'javier.gonzalez@example.com'),\n",
    "('Beatriz García', 23, 'beatriz.garcia@example.com'),\n",
    "('Alejandro Martínez', 19, 'alejandro.martinez@example.com'),\n",
    "('Patricia López', 21, 'patricia.lopez@example.com'),\n",
    "('Sergio Sánchez', 22, 'sergio.sanchez@example.com'),\n",
    "('Ana Hernández', 24, 'ana.hernandez@example.com'),\n",
    "('Pablo Díaz', 20, 'pablo.diaz@example.com'),\n",
    "('Alicia González', 21, 'alicia.gonzalez@example.com'),\n",
    "('Jorge Torres', 23, 'jorge.torres@example.com'),\n",
    "('Laura Rodríguez', 22, 'laura.rodriguez@example.com'),\n",
    "('Carlos Sánchez', 25, 'carlos.sanchez@example.com');\n"
   ]
  },
  {
   "cell_type": "code",
   "execution_count": null,
   "metadata": {
    "vscode": {
     "languageId": "sql"
    }
   },
   "outputs": [],
   "source": [
    "CREATE TABLE `botegaproject_bea`.`profesores` (\n",
    "  ` id_profesor` INT NOT NULL AUTO_INCREMENT,\n",
    "  `nombre_profesor` NVARCHAR(50) NOT NULL,\n",
    "  `departamento` VARCHAR(45) NULL,\n",
    "  PRIMARY KEY (` id_profesor`));"
   ]
  },
  {
   "cell_type": "code",
   "execution_count": null,
   "metadata": {
    "vscode": {
     "languageId": "sql"
    }
   },
   "outputs": [],
   "source": [
    "INSERT INTO Profesores (nombre, departamento) VALUES\n",
    "('Dr. Rodríguez', 'Matemáticas'),\n",
    "('Dra. López', 'Literatura'),\n",
    "('Dr. Martínez', 'Física'),\n",
    "('Dra. Garcia', 'Quimica'),\n",
    "('Dra. Gonzalez', 'Tecnologia'),\n",
    "('Juan Rodríguez', 'Matemáticas'),\n",
    "('Lucia López', 'Literatura'),\n",
    "('Ana Martínez', 'Física'),\n",
    "('Fran. Garcia', 'Quimica'),\n",
    "('Beatriz Gonzalez', 'Tecnologia'),\n",
    "('Jon Rodríguez', 'Historia'),\n",
    "('Lola López', 'Ingieneria'),\n",
    "('Ana Martínez', 'Física'),\n",
    "('Fran. Garcia', 'Quimica'),\n",
    "('Beatriz Gonzalez', 'Tecnologia'),\n",
    "('Juan Rodríguez', 'Matemáticas'),\n",
    "('Lola López', 'Ingieneria'),\n",
    "('Ana Martínez', 'Física'),\n",
    "('Fran. Garcia', 'Quimica'),\n",
    "('Beatriz Gonzalez', 'Tecnologia'),\n",
    "('Juan Rodríguez', 'Matemáticas'),\n",
    "('Lucia López', 'Literatura'),\n",
    "('Ana Martínez', 'Física'),\n",
    "('Fran. Garcia', 'Quimica'),\n",
    "('Beatriz Gonzalez', 'Tecnologia');\n"
   ]
  },
  {
   "cell_type": "code",
   "execution_count": null,
   "metadata": {
    "vscode": {
     "languageId": "sql"
    }
   },
   "outputs": [],
   "source": [
    "CREATE TABLE `botegaproject_bea`.`cursos` (\n",
    "  ` id_curso` INT NOT NULL AUTO_INCREMENT,\n",
    "  `nombre_curso` NVARCHAR(100) NOT NULL,\n",
    "  `profesor_id` INT NULL,\n",
    "  `semestre_curso` INT NULL,\n",
    "  PRIMARY KEY (` id_curso`),\n",
    "  UNIQUE INDEX ` id_curso_UNIQUE` (` id_curso` ASC),\n",
    "  INDEX `profesor_id_idx` (`profesor_id` ASC),\n",
    "  CONSTRAINT `FK_profesor_id_curso`\n",
    "    FOREIGN KEY (`profesor_id`)\n",
    "    REFERENCES `botegaproject_bea`.`profesores` (` id_profesor`)\n",
    "    ON DELETE NO ACTION\n",
    "    ON UPDATE NO ACTION);"
   ]
  },
  {
   "cell_type": "code",
   "execution_count": null,
   "metadata": {
    "vscode": {
     "languageId": "sql"
    }
   },
   "outputs": [],
   "source": [
    "INSERT INTO Cursos (nombre_curso, profesor_id, semestre_curso) VALUES\n",
    "('Álgebra Lineal', 1, '002002024'),\n",
    "('Literatura Hispánica', 2, '002002024'),\n",
    "('Mecánica Cuántica', 3, '001002024'),\n",
    "('volumetría y fluidos', 4, '002002024'),\n",
    "('Inteligencia Artifical', 5, '001002024');"
   ]
  },
  {
   "cell_type": "code",
   "execution_count": null,
   "metadata": {
    "vscode": {
     "languageId": "sql"
    }
   },
   "outputs": [],
   "source": [
    "CREATE TABLE `botegaproject_bea`.`calificaciones` (\n",
    "  ` id_calificacion` INT NOT NULL AUTO_INCREMENT,\n",
    "  `estudiante_id` INT NOT NULL,\n",
    "  `curso_id` INT NOT NULL,\n",
    "  `nota` DECIMAL(5,2) NOT NULL,\n",
    "  `fecha` VARCHAR(45) NULL,\n",
    "  PRIMARY KEY (` id_calificacion`),\n",
    "  UNIQUE INDEX ` id_calificacion_UNIQUE` (` id_calificacion` ASC),\n",
    "  INDEX `FK_estudiante id_idx` (`estudiante_id` ASC) ,\n",
    "  INDEX `FK_curso_:id_idx` (`curso_id` ASC) ,\n",
    "  CONSTRAINT `FK_estudiante_iid`\n",
    "    FOREIGN KEY (`estudiante_id`)\n",
    "    REFERENCES `botegaproject_bea`.`estudiantes` (`id_estudiantes`)\n",
    "    ON DELETE NO ACTION\n",
    "    ON UPDATE NO ACTION,\n",
    "  CONSTRAINT `FK_curso_:id`\n",
    "    FOREIGN KEY (`curso_id`)\n",
    "    REFERENCES `botegaproject_bea`.`cursos` (` id_curso`)\n",
    "    ON DELETE NO ACTION\n",
    "    ON UPDATE NO ACTION);"
   ]
  },
  {
   "cell_type": "code",
   "execution_count": null,
   "metadata": {
    "vscode": {
     "languageId": "sql"
    }
   },
   "outputs": [],
   "source": [
    "INSERT INTO Calificaciones (estudiante_id, curso_id, nota, fecha) VALUES\n",
    "(1, 1, 8.75, '2024-03-15'),\n",
    "(2, 2, 7.50, '2024-03-16'),\n",
    "(3, 3, 9.00, '2024-03-17'),\n",
    "(4, 4, 6.80, '2024-03-18'),\n",
    "(5, 5, 8.25, '2024-03-19'),\n",
    "(6, 1, 7.90, '2024-03-20'),\n",
    "(7, 2, 8.60, '2024-03-21'),\n",
    "(8, 3, 9.10, '2024-03-22'),\n",
    "(9, 4, 6.50, '2024-03-23'),\n",
    "(10, 5, 8.75, '2024-03-24'),\n",
    "(11, 1, 7.80, '2024-03-25'),\n",
    "(12, 2, 9.20, '2024-03-26'),\n",
    "(13, 3, 8.40, '2024-03-27'),\n",
    "(14, 4, 6.70, '2024-03-28'),\n",
    "(15, 5, 8.55, '2024-03-29'),\n",
    "(16, 1, 7.95, '2024-03-30'),\n",
    "(17, 2, 8.65, '2024-03-31'),\n",
    "(18, 3, 9.05, '2024-04-01'),\n",
    "(19, 4, 6.60, '2024-04-02'),\n",
    "(20, 5, 8.80, '2024-04-03'),\n",
    "(1, 2, 8.80, '2024-04-09'),\n",
    "(2, 3, 7.60, '2024-04-10'),\n",
    "(3, 4, 9.20, '2024-04-11'),\n",
    "(4, 5, 6.90, '2024-04-12'),\n",
    "(5, 1, 8.30, '2024-04-13'),\n",
    "(6, 2, 7.85, '2024-04-14'),\n",
    "(7, 3, 8.55, '2024-04-15'),\n",
    "(8, 4, 9.10, '2024-04-16'),\n",
    "(9, 5, 6.75, '2024-04-17'),\n",
    "(10, 1, 8.65, '2024-04-18');"
   ]
  },
  {
   "cell_type": "code",
   "execution_count": null,
   "metadata": {
    "vscode": {
     "languageId": "sql"
    }
   },
   "outputs": [],
   "source": [
    "SELECT * FROM estudiantes;\n",
    "SELECT * FROM calificaciones;\n",
    "SELECT * FROM profesores;\n",
    "SELECT * FROM cursos;"
   ]
  },
  {
   "cell_type": "markdown",
   "metadata": {},
   "source": [
    "### Scripts de consulta SQL para:  \n",
    "\n",
    "1. La calificación promedio que da cada profesor.  "
   ]
  },
  {
   "cell_type": "code",
   "execution_count": null,
   "metadata": {
    "vscode": {
     "languageId": "sql"
    }
   },
   "outputs": [],
   "source": [
    "SELECT p.nombre_profesor, AVG(ca.nota) AS calificacion_promedio\n",
    "FROM calificaciones ca\n",
    "JOIN cursos cu ON ca.curso_id = cu.` id_curso`\n",
    "JOIN profesores p ON cu.profesor_id = p.` id_profesor`\n",
    "GROUP BY p.nombre_profesor;"
   ]
  },
  {
   "cell_type": "markdown",
   "metadata": {},
   "source": [
    "2. Las mejores calificaciones de cada estudiante."
   ]
  },
  {
   "cell_type": "code",
   "execution_count": null,
   "metadata": {
    "vscode": {
     "languageId": "sql"
    }
   },
   "outputs": [],
   "source": [
    "SELECT e.nombre_estudiante, MAX(ca.nota) AS mejor_calificacion\n",
    "FROM calificaciones ca\n",
    "JOIN estudiantes e ON ca.estudiante_id = e.id_estudiantes\n",
    "GROUP BY e.nombre_estudiante;"
   ]
  },
  {
   "cell_type": "markdown",
   "metadata": {},
   "source": [
    "3. Ordenar a los estudiantes por los cursos en los que están matriculados."
   ]
  },
  {
   "cell_type": "code",
   "execution_count": null,
   "metadata": {
    "vscode": {
     "languageId": "sql"
    }
   },
   "outputs": [],
   "source": [
    "SELECT e.nombre_estudiante, cu.nombre_curso\n",
    "FROM calificaciones ca\n",
    "JOIN estudiantes e ON ca.estudiante_id = e.id_estudiantes\n",
    "JOIN cursos cu ON ca.curso_id = cu.` id_curso`\n",
    "ORDER BY e.nombre_estudiante, cu.nombre_curso;\n"
   ]
  },
  {
   "cell_type": "markdown",
   "metadata": {},
   "source": [
    "4. Crear un informe resumen de los cursos y sus calificaciones promedio, ordenado desde el curso más desafiante (curso con la calificación promedio más baja) hasta el curso más fácil."
   ]
  },
  {
   "cell_type": "code",
   "execution_count": null,
   "metadata": {
    "vscode": {
     "languageId": "sql"
    }
   },
   "outputs": [],
   "source": [
    "SELECT cu.nombre_curso, AVG(ca.nota) AS calificacion_promedio\n",
    "FROM calificaciones ca\n",
    "JOIN cursos cu ON ca.curso_id = cu.` id_curso`\n",
    "GROUP BY cu.nombre_curso\n",
    "ORDER BY calificacion_promedio ASC;"
   ]
  },
  {
   "cell_type": "markdown",
   "metadata": {},
   "source": [
    "5. Encontrar qué estudiante y profesor tienen más cursos en común."
   ]
  },
  {
   "cell_type": "code",
   "execution_count": null,
   "metadata": {
    "vscode": {
     "languageId": "sql"
    }
   },
   "outputs": [],
   "source": [
    "SELECT e.nombre_estudiante, p.nombre_profesor, COUNT(*) AS cursos_comunes\n",
    "FROM calificaciones ca\n",
    "JOIN estudiantes e ON ca.estudiante_id = e.id_estudiantes\n",
    "JOIN cursos cu ON ca.curso_id = cu.` id_curso`\n",
    "JOIN profesores p ON cu.profesor_id = p.` id_profesor`\n",
    "GROUP BY e.nombre_estudiante, p.nombre_profesor\n",
    "ORDER BY cursos_comunes DESC\n",
    "LIMIT 1;"
   ]
  },
  {
   "cell_type": "markdown",
   "metadata": {},
   "source": [
    "> Opciones de envío: Subir todos los scripts a un solo repositorio de Github y enviar el enlace a un Mentor a través de la aplicación de soporte. Si no estás familiarizado con Github, crea un gist separado para todos los scripts y envía el gist a través de la aplicación de soporte."
   ]
  }
 ],
 "metadata": {
  "language_info": {
   "name": "python"
  }
 },
 "nbformat": 4,
 "nbformat_minor": 2
}
